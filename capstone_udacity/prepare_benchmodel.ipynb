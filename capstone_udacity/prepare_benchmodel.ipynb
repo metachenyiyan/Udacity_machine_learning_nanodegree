{
 "cells": [
  {
   "cell_type": "code",
   "execution_count": null,
   "metadata": {},
   "outputs": [],
   "source": [
    "\n",
    "import pandas as pd\n",
    "from scipy import sparse\n",
    "from sklearn.feature_extraction.text import TfidfVectorizer\n",
    "from sklearn.pipeline import make_union\n",
    "import pickle\n",
    "\n",
    "class_names = ['toxic', 'severe_toxic', 'obscene', 'threat', 'insult', 'identity_hate']\n",
    "train = pd.read_csv('data/train.csv').fillna(' ')\n",
    "test = pd.read_csv('data/test.csv').fillna(' ')\n",
    "train_text = train['comment_text']\n",
    "test_text = test['comment_text']\n",
    "\n",
    "word_vectorizer = TfidfVectorizer(\n",
    "    sublinear_tf=True,\n",
    "    strip_accents='unicode',\n",
    "    analyzer='word',\n",
    "    token_pattern=r'\\w{1,}',\n",
    "    ngram_range=(1, 1),\n",
    "    max_features=30000)\n",
    "char_vectorizer = TfidfVectorizer(\n",
    "    sublinear_tf=True,\n",
    "    strip_accents='unicode',\n",
    "    analyzer='char',\n",
    "    ngram_range=(1, 4),\n",
    "    max_features=30000)\n",
    "\n",
    "with open('temp_res/word_vectorizer.pk', 'wb') as fin:\n",
    "    pickle.dump(word_vectorizer, fin)\n",
    "\n",
    "with open('temp_res/char_vectorizer.pk', 'wb') as fin:\n",
    "    pickle.dump(char_vectorizer, fin)\n",
    "\n",
    "if __name__ == '__main__':\n",
    "    vectorizer = make_union(word_vectorizer, char_vectorizer, n_jobs=2)\n",
    "    vectorizer.fit(train_text)\n",
    "    train_features = vectorizer.transform(train_text)\n",
    "    test_features = vectorizer.transform(test_text)\n",
    "    sparse.save_npz(\"temp_res/train_features.npz\", train_features)\n",
    "    sparse.save_npz(\"temp_res/test_features.npz\", test_features)"
   ]
  }
 ],
 "metadata": {
  "kernelspec": {
   "display_name": "Python 3",
   "language": "python",
   "name": "python3"
  },
  "language_info": {
   "codemirror_mode": {
    "name": "ipython",
    "version": 3
   },
   "file_extension": ".py",
   "mimetype": "text/x-python",
   "name": "python",
   "nbconvert_exporter": "python",
   "pygments_lexer": "ipython3",
   "version": "3.6.6"
  }
 },
 "nbformat": 4,
 "nbformat_minor": 2
}
